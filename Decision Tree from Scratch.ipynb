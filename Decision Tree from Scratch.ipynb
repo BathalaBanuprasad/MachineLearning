{
 "cells": [
  {
   "cell_type": "markdown",
   "metadata": {},
   "source": [
    "https://github.com/random-forests/tutorials/blob/master/decision_tree.ipynb"
   ]
  },
  {
   "cell_type": "code",
   "execution_count": 1,
   "metadata": {},
   "outputs": [],
   "source": [
    "training_data = [\n",
    "    ['Green', 3, 'Apple'],\n",
    "    ['Yellow', 3, 'Apple'],\n",
    "    ['Red', 1, 'Grape'],\n",
    "    ['Red', 1, 'Grape'],\n",
    "    ['Yellow', 3, 'Lemon'],\n",
    "]"
   ]
  },
  {
   "cell_type": "code",
   "execution_count": 2,
   "metadata": {},
   "outputs": [],
   "source": [
    "header = [\"Color\", \"Diameter\", \"Fruit\"]"
   ]
  },
  {
   "cell_type": "code",
   "execution_count": 3,
   "metadata": {},
   "outputs": [],
   "source": [
    "def class_counts(data):\n",
    "    # used while computing gini coefficient\n",
    "    classes = [x[-1] for x in data]\n",
    "    counts = dict()\n",
    "    for cls in classes:\n",
    "        if cls not in counts:\n",
    "            counts[cls] = 0\n",
    "        counts[cls] += 1\n",
    "    return counts"
   ]
  },
  {
   "cell_type": "code",
   "execution_count": 4,
   "metadata": {},
   "outputs": [
    {
     "name": "stdout",
     "output_type": "stream",
     "text": [
      "{'Apple': 2, 'Grape': 2, 'Lemon': 1}\n"
     ]
    }
   ],
   "source": [
    "classes = class_counts(training_data)\n",
    "print(classes)"
   ]
  },
  {
   "cell_type": "code",
   "execution_count": 5,
   "metadata": {},
   "outputs": [],
   "source": [
    "def isnumeric(key):\n",
    "    # used in question to distinguish between a numercial or categorical variable\n",
    "    return isinstance(key, int) or isinstance(key, float)"
   ]
  },
  {
   "cell_type": "code",
   "execution_count": 6,
   "metadata": {},
   "outputs": [
    {
     "name": "stdout",
     "output_type": "stream",
     "text": [
      "True\n",
      "True\n",
      "False\n"
     ]
    }
   ],
   "source": [
    "print(isnumeric(1))\n",
    "print(isnumeric(7.0))\n",
    "print(isnumeric('Apple'))"
   ]
  },
  {
   "cell_type": "markdown",
   "metadata": {},
   "source": [
    "$$Gini = 1 - \\Sigma_{i} p_i^2$$\n",
    "\n",
    "Where $p_i: $ probability of $i^{th}$ class"
   ]
  },
  {
   "cell_type": "code",
   "execution_count": 7,
   "metadata": {},
   "outputs": [],
   "source": [
    "def gini(data):\n",
    "    counts = class_counts(data)\n",
    "    impurity = 1.0\n",
    "    total = sum([counts[x] for x in counts])\n",
    "    for count in counts:\n",
    "        p = counts[count]/total\n",
    "        impurity -= p**2\n",
    "    return impurity"
   ]
  },
  {
   "cell_type": "code",
   "execution_count": 8,
   "metadata": {},
   "outputs": [
    {
     "name": "stdout",
     "output_type": "stream",
     "text": [
      "0.6399999999999999\n",
      "0.0\n",
      "0.6666666666666665\n"
     ]
    }
   ],
   "source": [
    "print(gini(training_data))\n",
    "print(gini([[\"Apple\"],[\"Apple\"],[\"Apple\"],]))\n",
    "print(gini([[\"Apple\"],[\"Orange\"],[\"Strawberry\"],]))"
   ]
  },
  {
   "cell_type": "code",
   "execution_count": 9,
   "metadata": {},
   "outputs": [],
   "source": [
    "# def unique_vals(training_data, idx):\n",
    "#     return set([x[idx] for x in training_data])"
   ]
  },
  {
   "cell_type": "code",
   "execution_count": 10,
   "metadata": {},
   "outputs": [],
   "source": [
    "# print(unique_vals(training_data, 0))\n",
    "# print(unique_vals(training_data, 1))\n",
    "# print(unique_vals(training_data, 2))"
   ]
  },
  {
   "cell_type": "code",
   "execution_count": 27,
   "metadata": {},
   "outputs": [],
   "source": [
    "class Question:\n",
    "    # Question to partition data\n",
    "    def __init__(self, header, value):\n",
    "        self.header = header\n",
    "        self.value = value\n",
    "    \n",
    "    def match(self, example):\n",
    "        if isnumeric(self.value):\n",
    "            return example[self.header] >= self.value\n",
    "        else:\n",
    "            return example[self.header]== self.value\n",
    "    \n",
    "    def __repr__(self):\n",
    "        if isnumeric(self.value):\n",
    "            condition = \">=\"\n",
    "        else:\n",
    "            condition = \"==\"\n",
    "        return f\"Is {header[self.header]} {condition} {self.value}?\""
   ]
  },
  {
   "cell_type": "code",
   "execution_count": 12,
   "metadata": {},
   "outputs": [
    {
     "name": "stdout",
     "output_type": "stream",
     "text": [
      "Is Color == Green?\n",
      "['Green', 3, 'Apple']\n",
      "True\n",
      "['Yellow', 3, 'Apple']\n",
      "False\n"
     ]
    }
   ],
   "source": [
    "q = Question(0,\"Green\")\n",
    "print(q)\n",
    "print(training_data[0])\n",
    "print(q.match(training_data[0]))\n",
    "print(training_data[1])\n",
    "print(q.match(training_data[1]))"
   ]
  },
  {
   "cell_type": "code",
   "execution_count": 28,
   "metadata": {},
   "outputs": [],
   "source": [
    "def partition(data, question):\n",
    "    # partitin into true and false branches based on the question\n",
    "    left = []\n",
    "    right = []\n",
    "    for sample in data:\n",
    "        if question.match(sample):\n",
    "            left.append(sample)\n",
    "        else:\n",
    "            right.append(sample)\n",
    "    return left, right"
   ]
  },
  {
   "cell_type": "code",
   "execution_count": 14,
   "metadata": {},
   "outputs": [
    {
     "name": "stdout",
     "output_type": "stream",
     "text": [
      "Is Color == Green?\n",
      "[['Green', 3, 'Apple']]\n",
      "[['Yellow', 3, 'Apple'], ['Red', 1, 'Grape'], ['Red', 1, 'Grape'], ['Yellow', 3, 'Lemon']]\n"
     ]
    }
   ],
   "source": [
    "left, right = partition(training_data, q)\n",
    "print(q)\n",
    "print(left)\n",
    "print(right)"
   ]
  },
  {
   "cell_type": "code",
   "execution_count": 29,
   "metadata": {},
   "outputs": [],
   "source": [
    "def info_gain(current_impurity, left, right):\n",
    "    # Information gain obtained by current split\n",
    "    p_left = len(left)/ (len(left)+len(right))\n",
    "    p_right = 1-p_left\n",
    "    gini_left = gini(left)\n",
    "    gini_right = gini(right)\n",
    "    return current_impurity - p_left*gini_left - p_right*gini_right"
   ]
  },
  {
   "cell_type": "code",
   "execution_count": 30,
   "metadata": {},
   "outputs": [
    {
     "name": "stdout",
     "output_type": "stream",
     "text": [
      "0.1399999999999999\n",
      "0.37333333333333324\n"
     ]
    }
   ],
   "source": [
    "current_impurity = gini(training_data)\n",
    "left, right = partition(training_data, Question(0, \"Green\"))\n",
    "print(info_gain(current_impurity, left, right))\n",
    "left, right = partition(training_data, Question(1, 3))\n",
    "print(info_gain(current_impurity, left, right))"
   ]
  },
  {
   "cell_type": "code",
   "execution_count": 31,
   "metadata": {},
   "outputs": [],
   "source": [
    "def find_best_split(rows, debug = False):\n",
    "    # find best split for the given data\n",
    "    n_cols = len(rows[0])-1\n",
    "    best_gain = 0\n",
    "    best_question = None\n",
    "    current_impurity = gini(rows)\n",
    "    for col in range(n_cols):\n",
    "        unique_cols = set([x[col] for x in rows])\n",
    "        if debug:\n",
    "            print(unique_cols)\n",
    "        for val in unique_cols:\n",
    "            question = Question(col, val)\n",
    "            left, right = partition(rows, question)\n",
    "            if len(left) == 0 or len(right) == 0: #skip the question if it doesn't partition the data\n",
    "                continue\n",
    "            current_gain = info_gain(current_impurity, left, right)\n",
    "            if debug:\n",
    "                print(current_gain, question)\n",
    "            if current_gain >= best_gain:\n",
    "                best_gain = current_gain\n",
    "                best_question = question\n",
    "    return best_gain, best_question\n",
    "            "
   ]
  },
  {
   "cell_type": "code",
   "execution_count": 32,
   "metadata": {},
   "outputs": [
    {
     "name": "stdout",
     "output_type": "stream",
     "text": [
      "{'Green', 'Yellow', 'Red'}\n",
      "0.1399999999999999 Is Color == Green?\n",
      "0.17333333333333323 Is Color == Yellow?\n",
      "0.37333333333333324 Is Color == Red?\n",
      "{1, 3}\n",
      "0.37333333333333324 Is Diameter >= 3?\n"
     ]
    },
    {
     "data": {
      "text/plain": [
       "(0.37333333333333324, Is Diameter >= 3?)"
      ]
     },
     "execution_count": 32,
     "metadata": {},
     "output_type": "execute_result"
    }
   ],
   "source": [
    "find_best_split(training_data, debug=True)"
   ]
  },
  {
   "cell_type": "code",
   "execution_count": 19,
   "metadata": {},
   "outputs": [],
   "source": [
    "class LeafNode:\n",
    "    def __init__(self, rows):\n",
    "        # get counts of classes\n",
    "        counts = class_counts(rows)\n",
    "        # convert counts to class probabilities\n",
    "        total = sum(list(counts.values()))\n",
    "        probs = {}\n",
    "        for key in counts:\n",
    "            probs[key] = counts[key]/total\n",
    "        self.predictions = probs"
   ]
  },
  {
   "cell_type": "code",
   "execution_count": 20,
   "metadata": {},
   "outputs": [],
   "source": [
    "class DecisionNode:\n",
    "    def __init__(self, question, true_partition, false_partition):\n",
    "        self.question = question\n",
    "        self.true_partition = true_partition\n",
    "        self.false_partition = false_partition"
   ]
  },
  {
   "cell_type": "code",
   "execution_count": 34,
   "metadata": {},
   "outputs": [],
   "source": [
    "def build_tree(rows):\n",
    "    # recursively build tree\n",
    "    best_gain, question = find_best_split(rows)\n",
    "    # terminating condition\n",
    "    if best_gain == 0:\n",
    "        return LeafNode(rows)\n",
    "    # recursively partition rows\n",
    "    true_branch, false_branch = partition(rows, question)\n",
    "    # build left branch\n",
    "    left_branch = build_tree(true_branch)\n",
    "    # build right branch\n",
    "    right_branch = build_tree(false_branch)\n",
    "    return DecisionNode(question, left_branch, right_branch)"
   ]
  },
  {
   "cell_type": "code",
   "execution_count": 22,
   "metadata": {},
   "outputs": [],
   "source": [
    "def print_tree(node, spacing=\"\"):\n",
    "    if isinstance(node, LeafNode):\n",
    "        print(f\"{spacing} {node.predictions}\")\n",
    "        return\n",
    "    print(f\"{spacing} {node.question}\")\n",
    "    # left tree\n",
    "    print(f\"{spacing} --> True\")\n",
    "    print_tree(node.true_partition, spacing+\"\\t\")\n",
    "    # right tree\n",
    "    print(f\"{spacing} --> False\")\n",
    "    print_tree(node.false_partition, spacing+\"\\t\")   "
   ]
  },
  {
   "cell_type": "code",
   "execution_count": 23,
   "metadata": {},
   "outputs": [
    {
     "name": "stdout",
     "output_type": "stream",
     "text": [
      " Is Diameter >= 3?\n",
      " --> True\n",
      "\t Is Color == Yellow?\n",
      "\t --> True\n",
      "\t\t {'Apple': 0.5, 'Lemon': 0.5}\n",
      "\t --> False\n",
      "\t\t {'Apple': 1.0}\n",
      " --> False\n",
      "\t {'Grape': 1.0}\n"
     ]
    }
   ],
   "source": [
    "tree = build_tree(training_data)\n",
    "print_tree(tree)"
   ]
  },
  {
   "cell_type": "code",
   "execution_count": 24,
   "metadata": {},
   "outputs": [],
   "source": [
    "def classify(node, row):\n",
    "    if isinstance(node, LeafNode):\n",
    "        return node.predictions\n",
    "    else:\n",
    "        if node.question.match(row):\n",
    "            return classify(node.true_partition, row)\n",
    "        else:\n",
    "            return classify(node.false_partition, row)"
   ]
  },
  {
   "cell_type": "code",
   "execution_count": 25,
   "metadata": {},
   "outputs": [
    {
     "name": "stdout",
     "output_type": "stream",
     "text": [
      "['Green', 3, 'Apple']: Prediction: {'Apple': 1.0}\n",
      "['Yellow', 3, 'Apple']: Prediction: {'Apple': 0.5, 'Lemon': 0.5}\n",
      "['Red', 1, 'Grape']: Prediction: {'Grape': 1.0}\n",
      "['Red', 1, 'Grape']: Prediction: {'Grape': 1.0}\n",
      "['Yellow', 3, 'Lemon']: Prediction: {'Apple': 0.5, 'Lemon': 0.5}\n"
     ]
    }
   ],
   "source": [
    "for row in training_data:\n",
    "    print(f\"{row}: Prediction: {classify(tree, row)}\")"
   ]
  },
  {
   "cell_type": "code",
   "execution_count": 26,
   "metadata": {},
   "outputs": [
    {
     "name": "stdout",
     "output_type": "stream",
     "text": [
      "['Green', 3, 'Apple']: Prediction: {'Apple': 1.0}\n",
      "['Yellow', 4, 'Apple']: Prediction: {'Apple': 0.5, 'Lemon': 0.5}\n",
      "['Red', 2, 'Grape']: Prediction: {'Grape': 1.0}\n",
      "['Red', 1, 'Grape']: Prediction: {'Grape': 1.0}\n",
      "['Yellow', 3, 'Lemon']: Prediction: {'Apple': 0.5, 'Lemon': 0.5}\n"
     ]
    }
   ],
   "source": [
    "# Evaluate\n",
    "testing_data = [\n",
    "    ['Green', 3, 'Apple'],\n",
    "    ['Yellow', 4, 'Apple'],\n",
    "    ['Red', 2, 'Grape'],\n",
    "    ['Red', 1, 'Grape'],\n",
    "    ['Yellow', 3, 'Lemon'],\n",
    "]\n",
    "for row in testing_data:\n",
    "    print(f\"{row}: Prediction: {classify(tree, row)}\")"
   ]
  },
  {
   "cell_type": "code",
   "execution_count": null,
   "metadata": {},
   "outputs": [],
   "source": []
  }
 ],
 "metadata": {
  "kernelspec": {
   "display_name": "Python 3",
   "language": "python",
   "name": "python3"
  },
  "language_info": {
   "codemirror_mode": {
    "name": "ipython",
    "version": 3
   },
   "file_extension": ".py",
   "mimetype": "text/x-python",
   "name": "python",
   "nbconvert_exporter": "python",
   "pygments_lexer": "ipython3",
   "version": "3.7.0"
  }
 },
 "nbformat": 4,
 "nbformat_minor": 2
}
