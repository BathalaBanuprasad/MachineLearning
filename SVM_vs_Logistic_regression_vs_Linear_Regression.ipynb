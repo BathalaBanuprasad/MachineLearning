{
  "nbformat": 4,
  "nbformat_minor": 0,
  "metadata": {
    "colab": {
      "name": "SVM vs Logistic regression vs Linear Regression.ipynb",
      "provenance": []
    },
    "kernelspec": {
      "name": "python3",
      "display_name": "Python 3"
    }
  },
  "cells": [
    {
      "cell_type": "code",
      "metadata": {
        "id": "bjOGToW5Yk9A",
        "colab_type": "code",
        "colab": {}
      },
      "source": [
        "import numpy as np\n",
        "import matplotlib.pyplot as plt\n",
        "\n",
        "from sklearn import linear_model, svm\n",
        "from scipy.special import expit"
      ],
      "execution_count": 1,
      "outputs": []
    },
    {
      "cell_type": "markdown",
      "metadata": {
        "id": "5w0t8CNhZdQB",
        "colab_type": "text"
      },
      "source": [
        "#Generate Data"
      ]
    },
    {
      "cell_type": "code",
      "metadata": {
        "id": "hPjxf5lSZrwJ",
        "colab_type": "code",
        "colab": {}
      },
      "source": [
        "# General a toy dataset:s it's just a straight line with some Gaussian noise:\n",
        "xmin, xmax = -5, 5\n",
        "n_samples = 100\n",
        "np.random.seed(0)\n",
        "X = np.random.normal(size=n_samples)\n",
        "y = (X > 0).astype(np.float)\n",
        "X[X > 0] *= 4\n",
        "X += .3 * np.random.normal(size=n_samples)\n",
        "\n",
        "X = X[:, np.newaxis]"
      ],
      "execution_count": 44,
      "outputs": []
    },
    {
      "cell_type": "markdown",
      "metadata": {
        "id": "6eerJWjLlSUK",
        "colab_type": "text"
      },
      "source": [
        "# Fit Different Classifiers\n",
        "\n",
        "\n",
        "*   Linear Regression\n",
        "*   Logistic Regression\n",
        "*   Linear SVM\n",
        "\n"
      ]
    },
    {
      "cell_type": "code",
      "metadata": {
        "id": "kgpstIdga3vC",
        "colab_type": "code",
        "colab": {
          "base_uri": "https://localhost:8080/",
          "height": 225
        },
        "outputId": "1e23b4fb-98a9-4e10-8a2f-efe6303ab0b4"
      },
      "source": [
        "#part of code is taken from https://scikit-learn.org/stable/auto_examples/linear_model/plot_logistic.html#sphx-glr-auto-examples-linear-model-plot-logistic-py\n",
        "#plot the result\n",
        "plt.figure(1, figsize=(4, 3))\n",
        "plt.clf()\n",
        "plt.scatter(X.ravel(), y, color='green')#, zorder=20)\n",
        "X_test = np.linspace(-5, 10, 300)\n",
        "\n",
        "# Logistic Regression\n",
        "clf = linear_model.LogisticRegression(C=1e5)\n",
        "clf.fit(X, y)\n",
        "plt.plot(X_test, clf.coef_[0]*X_test + clf.intercept_, color='red', linewidth=3, label = 'Logistic Regression Model')\n",
        "\n",
        "# Linear Regression\n",
        "ols = linear_model.LinearRegression()\n",
        "ols.fit(X, y)\n",
        "plt.plot(X_test, ols.coef_ * X_test + ols.intercept_, linewidth=1, label = 'Linear Regression Model')\n",
        "plt.axhline(.5, color='.5')\n",
        "\n",
        "# Linear SVM\n",
        "clf_svm = svm.LinearSVC()\n",
        "clf_svm.fit(X, y)\n",
        "plt.plot(X_test, clf_svm.coef_[0] * X_test + clf_svm.intercept_, linewidth=1, label = 'Linear SVM')\n",
        "plt.axhline(.5, color='.5')\n",
        "\n",
        "plt.ylabel('y')\n",
        "plt.xlabel('X')\n",
        "plt.xticks(range(-5, 10))\n",
        "plt.yticks([0, 0.5, 1])\n",
        "plt.ylim(-.25, 1.25)\n",
        "plt.xlim(-4, 10)\n",
        "plt.legend(loc=\"lower right\", fontsize='small')\n",
        "plt.tight_layout()\n",
        "plt.show()"
      ],
      "execution_count": 52,
      "outputs": [
        {
          "output_type": "display_data",
          "data": {
            "image/png": "[encoded data removed]",
            "text/plain": [
              "<Figure size 288x216 with 1 Axes>"
            ]
          },
          "metadata": {
            "tags": [],
            "needs_background": "light"
          }
        }
      ]
    },
    {
      "cell_type": "markdown",
      "metadata": {
        "id": "Lsm-OWgfkL8t",
        "colab_type": "text"
      },
      "source": [
        "# Accuracy"
      ]
    },
    {
      "cell_type": "code",
      "metadata": {
        "id": "C_SglTEAhjZb",
        "colab_type": "code",
        "colab": {
          "base_uri": "https://localhost:8080/",
          "height": 68
        },
        "outputId": "7ba1e248-02cb-4444-fe76-f51266501550"
      },
      "source": [
        "print(f\"Test accuracy Logistic Regression: {clf.score(X_test.reshape(-1,1), Y_test.reshape(-1,1))}\")\n",
        "print(f\"Test accuracy Linear Regression: {ols.score(X_test.reshape(-1,1), Y_test.reshape(-1,1))}\")\n",
        "print(f\"Test accuracy SVM: {clf_svm.score(X_test.reshape(-1,1), Y_test.reshape(-1,1))}\")"
      ],
      "execution_count": 51,
      "outputs": [
        {
          "output_type": "stream",
          "text": [
            "Test accuracy Logistic Regression: 1.0\n",
            "Test accuracy Linear Regression: 0.5521800061846944\n",
            "Test accuracy SVM: 1.0\n"
          ],
          "name": "stdout"
        }
      ]
    },
    {
      "cell_type": "markdown",
      "metadata": {
        "id": "v8Bdy_bkmCF8",
        "colab_type": "text"
      },
      "source": [
        "We can observe from previous plot that SVM and Logistic Regression provides better classfier. \n",
        "\n",
        "SVM maximises geometric separation between two classes.\n",
        "Logistic regression tries to maximise posterior probabilities."
      ]
    },
    {
      "cell_type": "code",
      "metadata": {
        "id": "cMGsWFytmbgK",
        "colab_type": "code",
        "colab": {}
      },
      "source": [
        ""
      ],
      "execution_count": null,
      "outputs": []
    }
  ]
}